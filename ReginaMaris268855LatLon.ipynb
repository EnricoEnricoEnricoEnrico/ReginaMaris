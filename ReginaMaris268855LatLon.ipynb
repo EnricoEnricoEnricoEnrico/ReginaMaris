{
  "nbformat": 4,
  "nbformat_minor": 0,
  "metadata": {
    "colab": {
      "provenance": [],
      "authorship_tag": "ABX9TyMxmUFXSezkAy4e892neRyF",
      "include_colab_link": true
    },
    "kernelspec": {
      "name": "python3",
      "display_name": "Python 3"
    },
    "language_info": {
      "name": "python"
    }
  },
  "cells": [
    {
      "cell_type": "markdown",
      "metadata": {
        "id": "view-in-github",
        "colab_type": "text"
      },
      "source": [
        "<a href=\"https://colab.research.google.com/github/EnricoEnricoEnricoEnrico/ReginaMaris/blob/main/ReginaMaris268855LatLon.ipynb\" target=\"_parent\"><img src=\"https://colab.research.google.com/assets/colab-badge.svg\" alt=\"Open In Colab\"/></a>"
      ]
    },
    {
      "cell_type": "code",
      "execution_count": 4,
      "metadata": {
        "id": "21W7pt-gJqhF"
      },
      "outputs": [],
      "source": [
        "import pandas as pd\n",
        "import requests\n",
        "from bs4 import BeautifulSoup\n",
        "import time"
      ]
    },
    {
      "cell_type": "code",
      "source": [
        "url = \"https://marinetraffic.live/fetchAIS2.php/requests/vesselsonmaptempTTT.php?type=json&seltype=0&selid=244528000\"\n",
        "headers = {\"User-Agent\": \"Mozilla/5.0 (Windows NT 10.0; Win64; x64) AppleWebKit/537.36 (KHTML, like Gecko) Chrome/58.0.3029.110 Safari/537.3\"}\n",
        "antwort = requests.get(url, headers = headers)\n",
        "antwort\n"
      ],
      "metadata": {
        "colab": {
          "base_uri": "https://localhost:8080/"
        },
        "id": "4Twvf686L0Li",
        "outputId": "b8cdcf81-3e6d-4b08-ef0c-0d657d24f9cd"
      },
      "execution_count": 7,
      "outputs": [
        {
          "output_type": "execute_result",
          "data": {
            "text/plain": [
              "<Response [200]>"
            ]
          },
          "metadata": {},
          "execution_count": 7
        }
      ]
    },
    {
      "cell_type": "code",
      "source": [
        "df = pd.read_json(url)\n",
        "df"
      ],
      "metadata": {
        "id": "_4Dpl-TthxSw"
      },
      "execution_count": null,
      "outputs": []
    },
    {
      "cell_type": "code",
      "source": [
        "lat = float(df.iloc[4, 0])\n",
        "lon = float(df.iloc[5, 0])"
      ],
      "metadata": {
        "id": "j-bOukyXh-lJ"
      },
      "execution_count": null,
      "outputs": []
    },
    {
      "cell_type": "code",
      "source": [
        "from shapely.geometry import Point, Polygon"
      ],
      "metadata": {
        "id": "50KdEvQiiCo2"
      },
      "execution_count": null,
      "outputs": []
    },
    {
      "cell_type": "code",
      "source": [
        "!pip install pymsteams\n",
        "import pymsteams\n",
        "myTeamsMessage = pymsteams.connectorcard(\"\")"
      ],
      "metadata": {
        "id": "jFUdiK1_iDun"
      },
      "execution_count": null,
      "outputs": []
    },
    {
      "cell_type": "code",
      "source": [
        "# Definiere die Eckpunkte des Polygons als Liste von (lon, lat)-Tupeln\n",
        "polygon_coords_hh = [(9.787445,53.443081), (10.170593,53.443081), (10.170593,53.610433), (9.787445,53.610433)]\n",
        "polygon_coords_ki = [(10.094376,54.298696), (10.229988,54.298696), (10.229988,54.365158), (10.094376,54.365158)]\n",
        "\n",
        "# Erstelle ein Polygon-Objekt\n",
        "polygon_hh = Polygon(polygon_coords_hh)\n",
        "polygon_ki = Polygon(polygon_coords_ki)\n",
        "\n",
        "# Definiere die Position als Point-Objekt\n",
        "position = Point(lon, lat)\n",
        "\n",
        "# lon und lat sind die Längen- und Breitengrade deiner Position# Überprüfe, ob sich die Position innerhalb des Polygons befindet\n",
        "if polygon_hh.contains(position):\n",
        "  message = (\"Der Traditionssegler Regina Maris befindet sich in Hamburg.\")\n",
        "elif polygon_ki.contains(position):\n",
        "  message = (\"Der Traditionssegler Regina Maris befindet sich in Kiel.\")\n",
        "else:\n",
        "  message = (\"Der Traditionssegler Regina Maris ist weder in Hamburg noch in Kiel.\""
      ],
      "metadata": {
        "id": "IWT3ZShciIcJ"
      },
      "execution_count": null,
      "outputs": []
    },
    {
      "cell_type": "code",
      "source": [
        "myTeamsMessage.text(message)\n",
        "myTeamsMessage.send()"
      ],
      "metadata": {
        "id": "pc-r4OwfiKh5"
      },
      "execution_count": null,
      "outputs": []
    }
  ]
}